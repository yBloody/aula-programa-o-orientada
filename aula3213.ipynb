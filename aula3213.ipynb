{
  "nbformat": 4,
  "nbformat_minor": 0,
  "metadata": {
    "colab": {
      "provenance": [],
      "include_colab_link": true
    },
    "kernelspec": {
      "name": "python3",
      "display_name": "Python 3"
    },
    "language_info": {
      "name": "python"
    }
  },
  "cells": [
    {
      "cell_type": "markdown",
      "metadata": {
        "id": "view-in-github",
        "colab_type": "text"
      },
      "source": [
        "<a href=\"https://colab.research.google.com/github/yBloody/aula-programa-o-orientada/blob/main/aula3213.ipynb\" target=\"_parent\"><img src=\"https://colab.research.google.com/assets/colab-badge.svg\" alt=\"Open In Colab\"/></a>"
      ]
    },
    {
      "cell_type": "markdown",
      "source": [
        "exemplo 1\n",
        "\n",
        "---\n",
        "\n",
        "ler numero\n",
        "\n",
        "calcular = num % 2\n",
        "\n",
        "if num == 0\n",
        "\n",
        "exibir par\n",
        "\n",
        "else\n",
        "\n",
        "impar"
      ],
      "metadata": {
        "id": "oMBmpUgBzyCm"
      }
    },
    {
      "cell_type": "code",
      "execution_count": null,
      "metadata": {
        "colab": {
          "base_uri": "https://localhost:8080/"
        },
        "id": "GAHc39p7zcG9",
        "outputId": "28fd432b-7243-468b-a831-6f28c3e26c78"
      },
      "outputs": [
        {
          "output_type": "stream",
          "name": "stdout",
          "text": [
            "qual o numero?: 1978\n",
            "seu numero é par.\n"
          ]
        }
      ],
      "source": [
        "num = int(input(\"qual o numero?: \"))\n",
        "calc = num % 2\n",
        "if calc == 0:\n",
        "  print(\"seu numero é par.\")\n",
        "else:\n",
        "  print(\"seu numero é impar.\")"
      ]
    },
    {
      "cell_type": "markdown",
      "source": [
        "exemplo 2\n",
        "\n",
        "---\n",
        "\n",
        "Ler num\n",
        "\n",
        "if num >=0:\n",
        "\n",
        "Calcular Raiz Quadrada\n",
        "\n",
        "Exibir Raiz Quadrada\n",
        "\n",
        "else:\n",
        "\n",
        "Exibir “Não existe Raiz real p/ este num"
      ],
      "metadata": {
        "id": "1pLuIl0j1IRf"
      }
    },
    {
      "cell_type": "code",
      "source": [
        "import math\n",
        "num = int(input(\"digite um numero: \"))\n",
        "\n",
        "if num >= 0:\n",
        "    raiz = math.sqrt(num)\n",
        "    print(f\"a raiz quadrada de {num} é {raiz}.\")\n",
        "else:\n",
        "  print(\"não existe raiz real para este numero.\")"
      ],
      "metadata": {
        "colab": {
          "base_uri": "https://localhost:8080/"
        },
        "id": "Y-syWBfn1ebC",
        "outputId": "476ec07c-50c5-4912-cc2a-b71ce5b78c28"
      },
      "execution_count": null,
      "outputs": [
        {
          "output_type": "stream",
          "name": "stdout",
          "text": [
            "digite um numero: 9\n",
            "a raiz quadrada de 9 é 3.0.\n"
          ]
        }
      ]
    },
    {
      "cell_type": "markdown",
      "source": [
        "exemplo 3\n",
        "\n",
        "---\n",
        "\n",
        "ler"
      ],
      "metadata": {
        "id": "rfyV7NO_jvwA"
      }
    },
    {
      "cell_type": "code",
      "source": [
        "comp and larg= (input(\"qual o comprimento e largura da sua camisa respectivamente?: \"))\n",
        "if com >= 64 and com <= 68\n",
        " elif larg >= 48 and larg <=52\n",
        " print(f\"\")"
      ],
      "metadata": {
        "id": "pF6Pky8Ej0Ar"
      },
      "execution_count": null,
      "outputs": []
    }
  ]
}