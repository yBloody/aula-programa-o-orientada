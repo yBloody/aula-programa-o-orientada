{
  "nbformat": 4,
  "nbformat_minor": 0,
  "metadata": {
    "colab": {
      "provenance": [],
      "authorship_tag": "ABX9TyPw2m90cLiLQWbAMJ+qXF2G",
      "include_colab_link": true
    },
    "kernelspec": {
      "name": "python3",
      "display_name": "Python 3"
    },
    "language_info": {
      "name": "python"
    }
  },
  "cells": [
    {
      "cell_type": "markdown",
      "metadata": {
        "id": "view-in-github",
        "colab_type": "text"
      },
      "source": [
        "<a href=\"https://colab.research.google.com/github/yBloody/aula-programa-o-orientada/blob/main/AULA5.ipynb\" target=\"_parent\"><img src=\"https://colab.research.google.com/assets/colab-badge.svg\" alt=\"Open In Colab\"/></a>"
      ]
    },
    {
      "cell_type": "markdown",
      "source": [
        "arquivo POO_2 - EX 6\n",
        "\n",
        "---\n",
        "\n",
        "laborar um programa para tabelar todos os valores dos ângulos\n",
        "de 0º a 360º com intervalo de 5º e seus respectivos senos.\n",
        "\n",
        "---\n",
        "inteiro: i\n",
        "\n",
        "i=0\n",
        "\n",
        "i<=360?\n",
        "\n",
        "se verdadeiro então:\n",
        "\n",
        "Exibir seno (i em radiano)\n",
        "\n",
        "i+=5\n",
        "\n",
        "senão:\n",
        "\n",
        "Sair do *Loop*"
      ],
      "metadata": {
        "id": "NZtPMm4RLxcA"
      }
    },
    {
      "cell_type": "code",
      "execution_count": null,
      "metadata": {
        "id": "L_M-9MjwJHd9"
      },
      "outputs": [],
      "source": [
        "import math\n",
        "\n",
        "print(f\"{'angulo (graus)':<15} {'seno': <10}\")\n",
        "\n",
        "for angulo in range(0, 361, 5):\n",
        "    seno = math.sin(math.radians(angulo))\n",
        "    print(f\"{angulo:<15} {seno:<10.4f}\")"
      ]
    },
    {
      "cell_type": "markdown",
      "source": [
        "arquivo POO_2 - EX 7\n",
        "\n",
        "---\n",
        "\n",
        "Calcular e exibir a média de n alunos. Considerar que cada aluno possui duas notas\n",
        "(N1 e N2) de mesmo peso; e que a quantidade de alunos (n), assim como as notas\n",
        "de cada aluno devem ser fornecidas pelo usuário."
      ],
      "metadata": {
        "id": "uCqdEbfpdpJB"
      }
    },
    {
      "cell_type": "code",
      "source": [
        "\n",
        "n = int(input(\"qual a quantidade de alunos?: \"))\n",
        "\n",
        "media = 0\n",
        "\n",
        "for i in range(1, n + 1):\n",
        "    print(f\"\\naluno {i}\")\n",
        "    n1 = float(input(\"qual a sua nota da primeira prova: \"))\n",
        "    n2 = float(input(\"qual a nota da segunda prova: \"))\n",
        "    media = (n1 + n2) / 2\n",
        "    print(f\"a media do aluno foi {media}\")"
      ],
      "metadata": {
        "id": "oLIBIOX8dxvH"
      },
      "execution_count": null,
      "outputs": []
    }
  ]
}