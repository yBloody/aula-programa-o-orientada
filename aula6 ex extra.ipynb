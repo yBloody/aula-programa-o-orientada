{
  "nbformat": 4,
  "nbformat_minor": 0,
  "metadata": {
    "colab": {
      "provenance": [],
      "authorship_tag": "ABX9TyOKZf/HAUUmNbeR+PkjOodr",
      "include_colab_link": true
    },
    "kernelspec": {
      "name": "python3",
      "display_name": "Python 3"
    },
    "language_info": {
      "name": "python"
    }
  },
  "cells": [
    {
      "cell_type": "markdown",
      "metadata": {
        "id": "view-in-github",
        "colab_type": "text"
      },
      "source": [
        "<a href=\"https://colab.research.google.com/github/yBloody/aula-programa-o-orientada/blob/main/aula6%20ex%20extra.ipynb\" target=\"_parent\"><img src=\"https://colab.research.google.com/assets/colab-badge.svg\" alt=\"Open In Colab\"/></a>"
      ]
    },
    {
      "cell_type": "markdown",
      "source": [
        "# Arquivo POO_03 EXTRA EX 1\n",
        "\n",
        "---\n",
        "\n",
        "Elaborar um programa em python que solicite ao\n",
        "usuário um valor inteiro e em seguida informe ao usuário se o valor é múltiplo de 3 ou não.\n",
        "\n",
        "---\n",
        "\n",
        "início\n",
        "\n",
        "inteiro: x, r\n",
        "\n",
        "Ler x\n",
        "\n",
        "r = resto da divisao de x por 3\n",
        "\n",
        "se (r==0) então:\n",
        "\n",
        "escrever \"Múltiplo\"\n",
        "\n",
        "senão:\n",
        "\n",
        "escrever \"Não múltiplo\"\n",
        "\n",
        "fim se\n",
        "\n",
        "fim\n"
      ],
      "metadata": {
        "id": "isihc4MdkKkZ"
      }
    },
    {
      "cell_type": "code",
      "execution_count": null,
      "metadata": {
        "id": "gg3khHzFkIlv"
      },
      "outputs": [],
      "source": [
        "x = 0;r = 0\n",
        "\n",
        "x = int(input(\"digite um valor inteiro: \"))\n",
        "\n",
        "r = x % 3\n",
        "\n",
        "if (r==0):\n",
        "  print(f\"O valor {x} é Múltiplo de 3\")\n",
        "else:\n",
        "  print(f\"O valor {x} não múltiplo de 3\")"
      ]
    },
    {
      "cell_type": "markdown",
      "source": [
        "# Arquivo POO_03 EXTRA EX 2\n",
        "\n",
        "---\n",
        "\n",
        "02) Dadas as notas a e b de um aluno, com pesos\n",
        "respectivamente 2 e 3; pede-se elaborar um programa em Python para calcular e exibir\n",
        "a média ponderada do aluno, verificar e informar, junto ao valor da sua média, se foi\n",
        "aprovado ou não (OBS: Considere aprovado se obtiver média igual ou superior a 5).\n"
      ],
      "metadata": {
        "id": "-f7JD1eFpiQI"
      }
    },
    {
      "cell_type": "code",
      "source": [
        "n1 = 0;n2 = 0;media = 0\n",
        "\n",
        "n1 = float(input(\"digite a nota 1: \"))\n",
        "n2 = float(input(\"digite a nota 2: \"))\n",
        "\n",
        "media = (0.2*n1+0.3*n2) / (0.2 + 0.3)\n",
        "\n",
        "if (media>=5):\n",
        "  print(f\"Aprovado com média {media}\")\n",
        "else:\n",
        "  print(f\"Reprovado com média {media}\")"
      ],
      "metadata": {
        "id": "-5Y8no-4pu5B"
      },
      "execution_count": null,
      "outputs": []
    },
    {
      "cell_type": "markdown",
      "source": [
        "# Arquivo POO_03 EXTRA EX 3\n",
        "\n",
        "---\n",
        "\n",
        "03) Dado o algoritmo a seguir, elabore o código python do programa em questão:\n",
        "\n",
        "---\n",
        "\n",
        "\n",
        "Início\n",
        "\n",
        "Leia os três valores: a, b e c.\n",
        "\n",
        "Compare os valores:\n",
        "\n",
        "Se a é menor ou igual a b e a é menor ou igual a c, então\n",
        "\n",
        "a é o menor valor.\n",
        "\n",
        "Caso contrário, se b é menor ou igual a a e b é menor ou igual a c, então\n",
        "\n",
        "b é o menor valor.\n",
        "\n",
        "Caso contrário,\n",
        "\n",
        "c é o menor valor.\n",
        "\n",
        "Exiba o menor valor.\n",
        "\n",
        "Fim\n"
      ],
      "metadata": {
        "id": "6rBZVncMuG6R"
      }
    },
    {
      "cell_type": "code",
      "source": [
        "a = 0;b = 0;c = 0\n",
        "\n",
        "a = int(input(\"digite o valor de a: \"))\n",
        "b = int(input(\"digite o valor de b: \"))\n",
        "c = int(input(\"digite o valor de c: \"))\n",
        "\n",
        "if (a<=b and a<=c):\n",
        "  print(f\"O menor valor é {a}\")\n",
        "elif (b<=a and b<=c):\n",
        "  print(f\"O menor valor é {b}\")\n",
        "elif (c<=a and c<=b):\n",
        "  print(f\"O menor valor é {c}\")"
      ],
      "metadata": {
        "id": "obZnzbdfuQbF",
        "outputId": "654d31f9-0da8-4096-b296-6fbf7574035d",
        "colab": {
          "base_uri": "https://localhost:8080/"
        }
      },
      "execution_count": 25,
      "outputs": [
        {
          "output_type": "stream",
          "name": "stdout",
          "text": [
            "digite o valor de a: 9\n",
            "digite o valor de b: 1\n",
            "digite o valor de c: 7\n",
            "O menor valor é 1\n"
          ]
        }
      ]
    }
  ]
}