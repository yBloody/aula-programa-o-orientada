{
  "nbformat": 4,
  "nbformat_minor": 0,
  "metadata": {
    "colab": {
      "provenance": [],
      "authorship_tag": "ABX9TyPSsPhGd4NCFewM+ZLqvumU",
      "include_colab_link": true
    },
    "kernelspec": {
      "name": "python3",
      "display_name": "Python 3"
    },
    "language_info": {
      "name": "python"
    }
  },
  "cells": [
    {
      "cell_type": "markdown",
      "metadata": {
        "id": "view-in-github",
        "colab_type": "text"
      },
      "source": [
        "<a href=\"https://colab.research.google.com/github/yBloody/aula-programa-o-orientada/blob/main/aula6%20ex%20extra.ipynb\" target=\"_parent\"><img src=\"https://colab.research.google.com/assets/colab-badge.svg\" alt=\"Open In Colab\"/></a>"
      ]
    },
    {
      "cell_type": "markdown",
      "source": [
        "Arquivo POO_03 EXTRA EX 1\n",
        "\n",
        "---\n",
        "\n",
        "Elaborar um programa em python que solicite ao\n",
        "usuário um valor inteiro e em seguida informe ao usuário se o valor é múltiplo de 3 ou não.\n",
        "\n",
        "---\n",
        "\n",
        "início\n",
        "\n",
        "inteiro: x, r\n",
        "\n",
        "Ler x\n",
        "\n",
        "r = resto da divisao de x por 3\n",
        "\n",
        "se (r==0) então:\n",
        "\n",
        "escrever \"Múltiplo\"\n",
        "\n",
        "senão:\n",
        "\n",
        "escrever \"Não múltiplo\"\n",
        "\n",
        "fim se\n",
        "\n",
        "fim\n"
      ],
      "metadata": {
        "id": "isihc4MdkKkZ"
      }
    },
    {
      "cell_type": "code",
      "execution_count": null,
      "metadata": {
        "id": "gg3khHzFkIlv"
      },
      "outputs": [],
      "source": [
        "x = 0;r = 0\n",
        "\n",
        "x = int(input(\"digite um valor inteiro: \"))\n",
        "\n",
        "r = x % 3\n",
        "\n",
        "if (r==0):\n",
        "  print(f\"O valor {x} é Múltiplo de 3\")\n",
        "else:\n",
        "  print(f\"O valor {x} não múltiplo de 3\")"
      ]
    }
  ]
}