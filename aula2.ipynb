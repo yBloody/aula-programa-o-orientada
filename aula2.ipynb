{
  "nbformat": 4,
  "nbformat_minor": 0,
  "metadata": {
    "colab": {
      "provenance": [],
      "authorship_tag": "ABX9TyOEorPjIuWif2KjkVHsE37o",
      "include_colab_link": true
    },
    "kernelspec": {
      "name": "python3",
      "display_name": "Python 3"
    },
    "language_info": {
      "name": "python"
    }
  },
  "cells": [
    {
      "cell_type": "markdown",
      "metadata": {
        "id": "view-in-github",
        "colab_type": "text"
      },
      "source": [
        "<a href=\"https://colab.research.google.com/github/yBloody/aula-programa-o-orientada/blob/main/aula2.ipynb\" target=\"_parent\"><img src=\"https://colab.research.google.com/assets/colab-badge.svg\" alt=\"Open In Colab\"/></a>"
      ]
    },
    {
      "cell_type": "markdown",
      "source": [
        "exemplo 1 aula 1"
      ],
      "metadata": {
        "id": "OByOXcpjiHHa"
      }
    },
    {
      "cell_type": "code",
      "execution_count": 9,
      "metadata": {
        "colab": {
          "base_uri": "https://localhost:8080/"
        },
        "id": "0HKgWgKmdbo1",
        "outputId": "3b3762f7-e00d-4439-8bde-6117120660bc"
      },
      "outputs": [
        {
          "output_type": "stream",
          "name": "stdout",
          "text": [
            "digite a temperatura em Farenheit30\n",
            "a temperatura em c é -1.11°c\n"
          ]
        }
      ],
      "source": [
        "f = float(input(\"digite a temperatura em Farenheit\"))\n",
        "c = (f-32)/1.8\n",
        "print(f\"a temperatura em c é {c:.2f}°c\")"
      ]
    },
    {
      "cell_type": "markdown",
      "source": [
        "exemplo 2"
      ],
      "metadata": {
        "id": "BIKQymSOjY9C"
      }
    },
    {
      "cell_type": "code",
      "source": [
        "p = float(input(\"digite a polegadas que serao convertidas em milimetro:\"))\n",
        "mm = p*25.4\n",
        "print(f\"a conversao de polegadas para milimetros é {mm}mm\")"
      ],
      "metadata": {
        "colab": {
          "base_uri": "https://localhost:8080/"
        },
        "id": "U7GR9a0SjazV",
        "outputId": "98fa8798-db1b-4797-db6d-31b1644b4b26"
      },
      "execution_count": 26,
      "outputs": [
        {
          "output_type": "stream",
          "name": "stdout",
          "text": [
            "digite a polegadas que serao convertidas em milimetro:30\n",
            "a conversao de polegadas para milimetros é 762.0 mm\n"
          ]
        }
      ]
    },
    {
      "cell_type": "markdown",
      "source": [
        "exemplo 3"
      ],
      "metadata": {
        "id": "YY0l4GaNlxuy"
      }
    },
    {
      "cell_type": "code",
      "source": [
        "mm = float(input(\"digite os milimetros que serao convertidas em polegadas:\"))\n",
        "p = mm/25.4\n",
        "print(f\"a conversao de milimetros para polegadas é {p:.1f} polegadas\")"
      ],
      "metadata": {
        "colab": {
          "base_uri": "https://localhost:8080/"
        },
        "id": "j6SZ-it5m046",
        "outputId": "2fe6daa7-0a07-47fd-fcac-ddc700c8a594"
      },
      "execution_count": 43,
      "outputs": [
        {
          "output_type": "stream",
          "name": "stdout",
          "text": [
            "digite os milimetros que serao convertidas em polegadas:67\n",
            "a conversao de milimetros para polegadas é 2.6 polegadas\n"
          ]
        }
      ]
    },
    {
      "cell_type": "markdown",
      "source": [
        "exemplo 4"
      ],
      "metadata": {
        "id": "mB9HadcIrfvj"
      }
    },
    {
      "cell_type": "code",
      "source": [
        "id = float(input(\"digite sua idade:\"))\n",
        "if id >=16 and id <=70:\n",
        "    print(\"pode votar!\")\n",
        "else:\n",
        "    print(\"nao pode votar!\")"
      ],
      "metadata": {
        "id": "lUKEiImarjcD"
      },
      "execution_count": null,
      "outputs": []
    },
    {
      "cell_type": "markdown",
      "source": [
        "exemplo 5"
      ],
      "metadata": {
        "id": "CyCbjHN8uqRV"
      }
    },
    {
      "cell_type": "code",
      "source": [],
      "metadata": {
        "id": "9l24S57TusZ1"
      },
      "execution_count": null,
      "outputs": []
    }
  ]
}