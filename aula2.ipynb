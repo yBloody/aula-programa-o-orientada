{
  "nbformat": 4,
  "nbformat_minor": 0,
  "metadata": {
    "colab": {
      "provenance": [],
      "authorship_tag": "ABX9TyOsrlsSuywdAmXDHtCMSe/N",
      "include_colab_link": true
    },
    "kernelspec": {
      "name": "python3",
      "display_name": "Python 3"
    },
    "language_info": {
      "name": "python"
    }
  },
  "cells": [
    {
      "cell_type": "markdown",
      "metadata": {
        "id": "view-in-github",
        "colab_type": "text"
      },
      "source": [
        "<a href=\"https://colab.research.google.com/github/yBloody/aula-programa-o-orientada/blob/main/aula2.ipynb\" target=\"_parent\"><img src=\"https://colab.research.google.com/assets/colab-badge.svg\" alt=\"Open In Colab\"/></a>"
      ]
    },
    {
      "cell_type": "markdown",
      "source": [
        "exemplo 1 aula 1"
      ],
      "metadata": {
        "id": "OByOXcpjiHHa"
      }
    },
    {
      "cell_type": "code",
      "execution_count": 2,
      "metadata": {
        "colab": {
          "base_uri": "https://localhost:8080/"
        },
        "id": "0HKgWgKmdbo1",
        "outputId": "f83b8d9b-d563-4873-b223-6a372465676e"
      },
      "outputs": [
        {
          "output_type": "stream",
          "name": "stdout",
          "text": [
            "digite a temperatura em Farenheit32\n",
            "a temperatura em c é 0.00°c\n"
          ]
        }
      ],
      "source": [
        "f = float(input(\"digite a temperatura em Farenheit\"))\n",
        "c = (f-32)/1.8\n",
        "print(f\"a temperatura em c é {c:.2f}°c\")"
      ]
    }
  ]
}