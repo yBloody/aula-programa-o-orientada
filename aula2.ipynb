{
  "nbformat": 4,
  "nbformat_minor": 0,
  "metadata": {
    "colab": {
      "provenance": [],
      "authorship_tag": "ABX9TyOR2z5F5sTFd2exMHue0Omr",
      "include_colab_link": true
    },
    "kernelspec": {
      "name": "python3",
      "display_name": "Python 3"
    },
    "language_info": {
      "name": "python"
    }
  },
  "cells": [
    {
      "cell_type": "markdown",
      "metadata": {
        "id": "view-in-github",
        "colab_type": "text"
      },
      "source": [
        "<a href=\"https://colab.research.google.com/github/yBloody/aula-programa-o-orientada/blob/main/aula2.ipynb\" target=\"_parent\"><img src=\"https://colab.research.google.com/assets/colab-badge.svg\" alt=\"Open In Colab\"/></a>"
      ]
    },
    {
      "cell_type": "markdown",
      "source": [
        "exemplo 1 aula 1"
      ],
      "metadata": {
        "id": "OByOXcpjiHHa"
      }
    },
    {
      "cell_type": "code",
      "execution_count": 6,
      "metadata": {
        "collapsed": true,
        "id": "0HKgWgKmdbo1",
        "outputId": "c29d3b12-94b6-4c26-cd0b-c171570fa6f4",
        "colab": {
          "base_uri": "https://localhost:8080/"
        }
      },
      "outputs": [
        {
          "output_type": "stream",
          "name": "stdout",
          "text": [
            "digite a temperatura em Farenheit50\n",
            "a temperatura em c é 10.00°c\n"
          ]
        }
      ],
      "source": [
        "f = float(input(\"digite a temperatura em Farenheit\"))\n",
        "c = (f-32)/1.8\n",
        "print(f\"a temperatura em c é {c:.2f}°c\")"
      ]
    },
    {
      "cell_type": "markdown",
      "source": [
        "exemplo 2"
      ],
      "metadata": {
        "id": "BIKQymSOjY9C"
      }
    },
    {
      "cell_type": "code",
      "source": [
        "p = float(input(\"digite a polegadas que serao convertidas em milimetro:\"))\n",
        "mm = p*25.4\n",
        "print(f\"a conversao de polegadas para milimetros é {mm}mm\")"
      ],
      "metadata": {
        "colab": {
          "base_uri": "https://localhost:8080/"
        },
        "id": "U7GR9a0SjazV",
        "outputId": "98fa8798-db1b-4797-db6d-31b1644b4b26"
      },
      "execution_count": null,
      "outputs": [
        {
          "output_type": "stream",
          "name": "stdout",
          "text": [
            "digite a polegadas que serao convertidas em milimetro:30\n",
            "a conversao de polegadas para milimetros é 762.0 mm\n"
          ]
        }
      ]
    },
    {
      "cell_type": "markdown",
      "source": [
        "exemplo 3"
      ],
      "metadata": {
        "id": "YY0l4GaNlxuy"
      }
    },
    {
      "cell_type": "code",
      "source": [
        "mm = float(input(\"digite os milimetros que serao convertidas em polegadas:\"))\n",
        "p = mm/25.4\n",
        "print(f\"a conversao de milimetros para polegadas é {p:.1f} polegadas\")"
      ],
      "metadata": {
        "colab": {
          "base_uri": "https://localhost:8080/"
        },
        "id": "j6SZ-it5m046",
        "outputId": "2fe6daa7-0a07-47fd-fcac-ddc700c8a594"
      },
      "execution_count": null,
      "outputs": [
        {
          "output_type": "stream",
          "name": "stdout",
          "text": [
            "digite os milimetros que serao convertidas em polegadas:67\n",
            "a conversao de milimetros para polegadas é 2.6 polegadas\n"
          ]
        }
      ]
    },
    {
      "cell_type": "markdown",
      "source": [
        "exemplo 4"
      ],
      "metadata": {
        "id": "mB9HadcIrfvj"
      }
    },
    {
      "cell_type": "code",
      "source": [
        "id = float(input(\"digite sua idade:\"))\n",
        "if id >=16 and id <=70:\n",
        "    print(\"pode votar!\")\n",
        "else:\n",
        "    print(\"nao pode votar!\")"
      ],
      "metadata": {
        "id": "lUKEiImarjcD",
        "outputId": "b7e3ec75-fac9-4b5a-9ca3-dfe89e4041bd",
        "colab": {
          "base_uri": "https://localhost:8080/"
        }
      },
      "execution_count": 8,
      "outputs": [
        {
          "output_type": "stream",
          "name": "stdout",
          "text": [
            "digite sua idade:10\n",
            "nao pode votar!\n"
          ]
        }
      ]
    },
    {
      "cell_type": "markdown",
      "source": [
        "exemplo 5\n",
        "\n",
        "---\n",
        "ler R\n",
        "\n",
        "calcular v = (4/3) x pi x (r**3)\n",
        "\n",
        "exibir v"
      ],
      "metadata": {
        "id": "CyCbjHN8uqRV"
      }
    },
    {
      "cell_type": "code",
      "source": [
        "import math\n",
        "r = float(input(\"qual o raio da esfera?:\"))\n",
        "v = (4/3)*math.pi*(r**3)\n",
        "print(f\"o volume da esfera é {v:.2f}\")"
      ],
      "metadata": {
        "id": "9l24S57TusZ1",
        "outputId": "75b6dc06-bc35-4034-961f-7a603c613494",
        "colab": {
          "base_uri": "https://localhost:8080/"
        }
      },
      "execution_count": 5,
      "outputs": [
        {
          "output_type": "stream",
          "name": "stdout",
          "text": [
            "qual o raio da esfera?:20\n",
            "o volume da esfera é 33510.32\n"
          ]
        }
      ]
    },
    {
      "cell_type": "markdown",
      "source": [
        "exemplo 6\n",
        "\n",
        "---\n",
        "\n",
        "ler angulo em graus\n",
        "\n",
        "calcular graus vezes pi / 180\n",
        "\n",
        "exibir rad"
      ],
      "metadata": {
        "id": "7TVicUbxLTHg"
      }
    },
    {
      "cell_type": "code",
      "source": [
        "import math\n",
        "g = float(input(\"qual o angulo em graus?:\"))\n",
        "rad = g*(math.pi/180)\n",
        "print(f\"o angulo em radianos é {rad:.2f}\")"
      ],
      "metadata": {
        "id": "i-fnkE24LjV6",
        "outputId": "0bc2673d-01a6-465e-cc70-a923b291a34c",
        "colab": {
          "base_uri": "https://localhost:8080/"
        }
      },
      "execution_count": 4,
      "outputs": [
        {
          "output_type": "stream",
          "name": "stdout",
          "text": [
            "qual o angulo em graus?:80\n",
            "o angulo em radianos é 1.40\n"
          ]
        }
      ]
    },
    {
      "cell_type": "markdown",
      "source": [
        "exemplo 7\n",
        "\n",
        "---\n",
        "\n",
        "ler rad\n",
        "\n",
        "calcular graus = rad*180/pi\n",
        "\n",
        "exibir g"
      ],
      "metadata": {
        "id": "jq5wSGXRMDli"
      }
    },
    {
      "cell_type": "code",
      "source": [
        "import math\n",
        "rad = float(input(\"qual o angulo em radianos?:\"))\n",
        "g = rad*(180/math.pi)\n",
        "print(f\"o angulo em graus é {g:.2f}\")"
      ],
      "metadata": {
        "id": "s1PC4RWkMTVq"
      },
      "execution_count": null,
      "outputs": []
    },
    {
      "cell_type": "markdown",
      "source": [
        "exemplo 8\n",
        "\n",
        "---\n",
        "\n",
        "ler rad\n",
        "\n",
        "calcular\n",
        "\n",
        "exibir grad"
      ],
      "metadata": {
        "id": "-oBYTIO7NLjM"
      }
    },
    {
      "cell_type": "code",
      "source": [
        "import math\n",
        "rad = float(input(\"qual o angulo em radianos?:\"))\n",
        "grad = 400*rad/(2*math.pi)\n",
        "print(f\"o angulo em grados é {grad:.2f}\")"
      ],
      "metadata": {
        "id": "TEMilmMPO_Wd",
        "outputId": "04593925-f0d7-448b-a0f9-b9128b99d92d",
        "colab": {
          "base_uri": "https://localhost:8080/"
        }
      },
      "execution_count": 12,
      "outputs": [
        {
          "output_type": "stream",
          "name": "stdout",
          "text": [
            "qual o angulo em radianos?:80\n",
            "o angulo em grados é 5092.96\n"
          ]
        }
      ]
    }
  ]
}